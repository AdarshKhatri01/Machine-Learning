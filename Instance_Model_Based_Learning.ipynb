{
  "nbformat": 4,
  "nbformat_minor": 0,
  "metadata": {
    "colab": {
      "provenance": [],
      "authorship_tag": "ABX9TyNxhbEGlqSlN8xF0dNXiAQG",
      "include_colab_link": true
    },
    "kernelspec": {
      "name": "python3",
      "display_name": "Python 3"
    },
    "language_info": {
      "name": "python"
    }
  },
  "cells": [
    {
      "cell_type": "markdown",
      "metadata": {
        "id": "view-in-github",
        "colab_type": "text"
      },
      "source": [
        "<a href=\"https://colab.research.google.com/github/AdarshKhatri01/Machine-Learning/blob/basics/Instance_Model_Based_Learning.ipynb\" target=\"_parent\"><img src=\"https://colab.research.google.com/assets/colab-badge.svg\" alt=\"Open In Colab\"/></a>"
      ]
    },
    {
      "cell_type": "markdown",
      "source": [
        "Instance-based learning aur model-based learning dono machine learning ke tareeqe hain, lekin dono ka approach alag hota hai. Aasaan bhaasha mein samjhein:  \n",
        "\n",
        "### **1. Instance-Based Learning (IBL)**  \n",
        "- Yeh **memorization-based** hota hai.  \n",
        "- Model training ke waqt sirf data store karta hai, koi general pattern nahi seekhta.  \n",
        "- Jab naye data ka prediction karna hota hai, tab stored instances ke saath directly compare karta hai.  \n",
        "\n",
        "🔹 **Example:**  \n",
        "Sochiye aap ek **fruit recognition system** bana rahe hain. Aapke paas **apple aur orange** ki images hain.  \n",
        "- Jab naya fruit aata hai, system stored images se **milane ki koshish karta hai**.  \n",
        "- Jo sabse zyada similar ho, usko **predict** kar leta hai.  \n",
        "- **K-NN (K-Nearest Neighbors)** ek famous instance-based algorithm hai.  \n",
        "\n",
        "---\n",
        "\n",
        "### **2. Model-Based Learning**  \n",
        "- Yeh **pattern-based** hota hai.  \n",
        "- Model training ke waqt **data se patterns seekh leta hai** aur ek mathematical model banata hai.  \n",
        "- Naye data ke liye bas **banaye gaye model** ka istemal karta hai, na ke purane data se direct compare karta hai.  \n",
        "\n",
        "🔹 **Example:**  \n",
        "Agar aap ek **house price prediction system** bana rahe hain:  \n",
        "- Model purane **ghar ke area, bedrooms, price** ka pattern seekh lega.  \n",
        "- Jab naya ghar aayega, model **learned formula** ke basis par price predict karega.  \n",
        "- **Linear Regression, Decision Trees, Neural Networks** model-based learning ke examples hain.  \n",
        "\n",
        "---\n",
        "\n",
        "### **Key Difference:**  \n",
        "| Feature | Instance-Based Learning | Model-Based Learning |\n",
        "|---------|----------------|----------------|\n",
        "| **Approach** | Data store kar ke direct compare karta hai | Patterns seekh ke model banata hai |\n",
        "| **Speed** | Slow (Prediction ke waqt comparison karta hai) | Fast (Pehle hi seekh chuka hota hai) |\n",
        "| **Examples** | KNN, Case-Based Reasoning | Linear Regression, Neural Networks |\n",
        "| **Usage** | Small datasets, pattern-detect nahi karna | Large datasets, pattern-based prediction |\n",
        "\n",
        "Agar **quick decisions chahiye** aur **pattern seekhna zaroori hai**, toh **Model-Based Learning** best hai.  \n",
        "Agar **har naye instance ko compare karna** hai aur **data dynamic hai**, toh **Instance-Based Learning** useful ho sakta hai! 🚀"
      ],
      "metadata": {
        "id": "EE7yxpMGC-X8"
      }
    }
  ]
}